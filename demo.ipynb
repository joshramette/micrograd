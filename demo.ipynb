{
 "cells": [
  {
   "cell_type": "markdown",
   "metadata": {},
   "source": [
    "###  MicroGrad demo"
   ]
  },
  {
   "cell_type": "code",
   "execution_count": 5,
   "metadata": {
    "ExecuteTime": {
     "end_time": "2023-05-09T13:11:34.737467Z",
     "start_time": "2023-05-09T13:11:32.592855Z"
    }
   },
   "outputs": [],
   "source": [
    "import random\n",
    "import numpy as np\n",
    "import matplotlib.pyplot as plt\n",
    "%matplotlib inline"
   ]
  },
  {
   "cell_type": "code",
   "execution_count": 6,
   "metadata": {
    "ExecuteTime": {
     "end_time": "2023-05-09T13:11:35.318924Z",
     "start_time": "2023-05-09T13:11:35.305927Z"
    }
   },
   "outputs": [],
   "source": [
    "from micrograd.engine import Value\n",
    "from micrograd.nn import Neuron, Layer, MLP"
   ]
  },
  {
   "cell_type": "code",
   "execution_count": 7,
   "metadata": {
    "ExecuteTime": {
     "end_time": "2023-05-09T13:13:08.742793Z",
     "start_time": "2023-05-09T13:13:08.737627Z"
    }
   },
   "outputs": [],
   "source": [
    "np.random.seed(1337)\n",
    "random.seed(1337)"
   ]
  },
  {
   "cell_type": "code",
   "execution_count": 8,
   "metadata": {
    "ExecuteTime": {
     "end_time": "2023-05-09T13:18:09.849526Z",
     "start_time": "2023-05-09T13:18:09.689135Z"
    }
   },
   "outputs": [
    {
     "ename": "ModuleNotFoundError",
     "evalue": "No module named 'sklearn'",
     "output_type": "error",
     "traceback": [
      "\u001b[0;31m---------------------------------------------------------------------------\u001b[0m",
      "\u001b[0;31mModuleNotFoundError\u001b[0m                       Traceback (most recent call last)",
      "Cell \u001b[0;32mIn[8], line 3\u001b[0m\n\u001b[1;32m      1\u001b[0m \u001b[38;5;66;03m# make up a dataset\u001b[39;00m\n\u001b[0;32m----> 3\u001b[0m \u001b[38;5;28;01mfrom\u001b[39;00m \u001b[38;5;21;01msklearn\u001b[39;00m\u001b[38;5;21;01m.\u001b[39;00m\u001b[38;5;21;01mdatasets\u001b[39;00m \u001b[38;5;28;01mimport\u001b[39;00m make_moons, make_blobs\n\u001b[1;32m      4\u001b[0m X, y \u001b[38;5;241m=\u001b[39m make_moons(n_samples\u001b[38;5;241m=\u001b[39m\u001b[38;5;241m100\u001b[39m, noise\u001b[38;5;241m=\u001b[39m\u001b[38;5;241m0.0002\u001b[39m)\n\u001b[1;32m      6\u001b[0m \u001b[38;5;28mprint\u001b[39m(y)\n",
      "\u001b[0;31mModuleNotFoundError\u001b[0m: No module named 'sklearn'"
     ]
    }
   ],
   "source": [
    "# make up a dataset\n",
    "\n",
    "from sklearn.datasets import make_moons, make_blobs\n",
    "X, y = make_moons(n_samples=100, noise=0.0002)\n",
    "\n",
    "print(y)\n",
    "\n",
    "y = y*2 - 1 # make y be -1 or 1\n",
    "# visualize in 2D\n",
    "plt.figure(figsize=(5,5))\n",
    "plt.scatter(X[:,0], X[:,1], c=y, s=20, cmap='jet')"
   ]
  },
  {
   "cell_type": "code",
   "execution_count": 26,
   "metadata": {
    "ExecuteTime": {
     "end_time": "2023-05-09T13:18:19.078332Z",
     "start_time": "2023-05-09T13:18:19.071195Z"
    }
   },
   "outputs": [
    {
     "name": "stdout",
     "output_type": "stream",
     "text": [
      "MLP of [Layer of [ReLUNeuron(2), ReLUNeuron(2), ReLUNeuron(2), ReLUNeuron(2), ReLUNeuron(2), ReLUNeuron(2), ReLUNeuron(2), ReLUNeuron(2), ReLUNeuron(2), ReLUNeuron(2), ReLUNeuron(2), ReLUNeuron(2), ReLUNeuron(2), ReLUNeuron(2), ReLUNeuron(2), ReLUNeuron(2)], Layer of [ReLUNeuron(16), ReLUNeuron(16), ReLUNeuron(16), ReLUNeuron(16), ReLUNeuron(16), ReLUNeuron(16), ReLUNeuron(16), ReLUNeuron(16), ReLUNeuron(16), ReLUNeuron(16), ReLUNeuron(16), ReLUNeuron(16), ReLUNeuron(16), ReLUNeuron(16), ReLUNeuron(16), ReLUNeuron(16)], Layer of [LinearNeuron(16)]]\n",
      "number of parameters 337\n"
     ]
    }
   ],
   "source": [
    "# initialize a model \n",
    "model = MLP(2, [16, 16, 1]) # 2-layer neural network\n",
    "print(model)\n",
    "print(\"number of parameters\", len(model.parameters()))"
   ]
  },
  {
   "cell_type": "code",
   "execution_count": 27,
   "metadata": {
    "ExecuteTime": {
     "end_time": "2023-05-09T13:18:19.668383Z",
     "start_time": "2023-05-09T13:18:19.508310Z"
    }
   },
   "outputs": [
    {
     "name": "stdout",
     "output_type": "stream",
     "text": [
      "Value(data=1.2630592346183966, grad=0) 0.25\n"
     ]
    }
   ],
   "source": [
    "# loss function\n",
    "def loss(batch_size=None):\n",
    "    \n",
    "    # inline DataLoader :)\n",
    "    if batch_size is None:\n",
    "        Xb, yb = X, y\n",
    "    else:\n",
    "        ri = np.random.permutation(X.shape[0])[:batch_size]\n",
    "        Xb, yb = X[ri], y[ri]\n",
    "    inputs = [list(map(Value, xrow)) for xrow in Xb]\n",
    "    \n",
    "    # forward the model to get scores\n",
    "    scores = list(map(model, inputs))\n",
    "    \n",
    "    # svm \"max-margin\" loss\n",
    "    losses = [(1 + -yi*scorei).relu() for yi, scorei in zip(yb, scores)]\n",
    "    data_loss = sum(losses) * (1.0 / len(losses))\n",
    "    # L2 regularization\n",
    "    alpha = 1e-4\n",
    "    reg_loss = alpha * sum((p*p for p in model.parameters()))\n",
    "    total_loss = data_loss + reg_loss\n",
    "    \n",
    "    # also get accuracy\n",
    "    accuracy = [(yi > 0) == (scorei.data > 0) for yi, scorei in zip(yb, scores)]\n",
    "    return total_loss, sum(accuracy) / len(accuracy)\n",
    "\n",
    "total_loss, acc = loss()\n",
    "print(total_loss, acc)"
   ]
  },
  {
   "cell_type": "code",
   "execution_count": 30,
   "metadata": {
    "ExecuteTime": {
     "end_time": "2023-05-09T13:20:40.787997Z",
     "start_time": "2023-05-09T13:18:56.198467Z"
    }
   },
   "outputs": [
    {
     "name": "stdout",
     "output_type": "stream",
     "text": [
      "step 0 loss 0.23417203255280444, accuracy 89.0%\n",
      "step 1 loss 0.19252414813983926, accuracy 91.0%\n",
      "step 2 loss 0.1675846299371997, accuracy 92.0%\n",
      "step 3 loss 0.15712401273527302, accuracy 93.0%\n",
      "step 4 loss 0.12882718266469853, accuracy 94.0%\n",
      "step 5 loss 0.129694835775175, accuracy 94.0%\n",
      "step 6 loss 0.13008099744309878, accuracy 94.0%\n",
      "step 7 loss 0.12932445540309823, accuracy 96.0%\n",
      "step 8 loss 0.17681268698637628, accuracy 94.0%\n",
      "step 9 loss 0.15350060296321363, accuracy 95.0%\n",
      "step 10 loss 0.11109495110166795, accuracy 95.0%\n",
      "step 11 loss 0.07909070474562664, accuracy 98.0%\n",
      "step 12 loss 0.08504961344839837, accuracy 97.0%\n",
      "step 13 loss 0.07238701923971685, accuracy 98.0%\n",
      "step 14 loss 0.08353973921402147, accuracy 97.0%\n",
      "step 15 loss 0.055446876280781904, accuracy 98.0%\n",
      "step 16 loss 0.05565872062837658, accuracy 98.0%\n",
      "step 17 loss 0.04617641706990851, accuracy 99.0%\n",
      "step 18 loss 0.06695284664118424, accuracy 97.0%\n",
      "step 19 loss 0.031202275235216643, accuracy 100.0%\n",
      "step 20 loss 0.032696365612117806, accuracy 99.0%\n",
      "step 21 loss 0.02655252158669537, accuracy 100.0%\n",
      "step 22 loss 0.027519489530402792, accuracy 100.0%\n",
      "step 23 loss 0.022410296152657536, accuracy 100.0%\n",
      "step 24 loss 0.02675544742490569, accuracy 100.0%\n",
      "step 25 loss 0.017402554296809595, accuracy 100.0%\n",
      "step 26 loss 0.027067902853704504, accuracy 100.0%\n",
      "step 27 loss 0.013246607069682418, accuracy 100.0%\n",
      "step 28 loss 0.01582878808125278, accuracy 100.0%\n",
      "step 29 loss 0.0156398689434103, accuracy 100.0%\n",
      "step 30 loss 0.01813402961759201, accuracy 100.0%\n",
      "step 31 loss 0.012320134267446417, accuracy 100.0%\n",
      "step 32 loss 0.013057874174334868, accuracy 100.0%\n",
      "step 33 loss 0.013821152139194956, accuracy 100.0%\n",
      "step 34 loss 0.011568127498030444, accuracy 100.0%\n",
      "step 35 loss 0.011116296706706353, accuracy 100.0%\n",
      "step 36 loss 0.011113251050050484, accuracy 100.0%\n",
      "step 37 loss 0.011110246230106105, accuracy 100.0%\n",
      "step 38 loss 0.011107282214124974, accuracy 100.0%\n",
      "step 39 loss 0.011104358969808352, accuracy 100.0%\n",
      "step 40 loss 0.011101476465306476, accuracy 100.0%\n",
      "step 41 loss 0.01109863466921794, accuracy 100.0%\n",
      "step 42 loss 0.011095833550589174, accuracy 100.0%\n",
      "step 43 loss 0.011093073078913801, accuracy 100.0%\n",
      "step 44 loss 0.01109035322413217, accuracy 100.0%\n",
      "step 45 loss 0.011087673956630763, accuracy 100.0%\n",
      "step 46 loss 0.011085035247241632, accuracy 100.0%\n",
      "step 47 loss 0.011082437067241942, accuracy 100.0%\n",
      "step 48 loss 0.011079879388353408, accuracy 100.0%\n",
      "step 49 loss 0.011077362182741782, accuracy 100.0%\n",
      "step 50 loss 0.011074885423016339, accuracy 100.0%\n",
      "step 51 loss 0.011072449082229376, accuracy 100.0%\n",
      "step 52 loss 0.011070053133875803, accuracy 100.0%\n",
      "step 53 loss 0.011067697551892542, accuracy 100.0%\n",
      "step 54 loss 0.011065382310658135, accuracy 100.0%\n",
      "step 55 loss 0.011063107384992252, accuracy 100.0%\n",
      "step 56 loss 0.011060872750155248, accuracy 100.0%\n",
      "step 57 loss 0.011058678381847679, accuracy 100.0%\n",
      "step 58 loss 0.011056524256209925, accuracy 100.0%\n",
      "step 59 loss 0.011054410349821691, accuracy 100.0%\n",
      "step 60 loss 0.011052336639701638, accuracy 100.0%\n",
      "step 61 loss 0.0110503031033069, accuracy 100.0%\n",
      "step 62 loss 0.011048309718532776, accuracy 100.0%\n",
      "step 63 loss 0.011046356463712211, accuracy 100.0%\n",
      "step 64 loss 0.01104444331761552, accuracy 100.0%\n",
      "step 65 loss 0.011042570259449878, accuracy 100.0%\n",
      "step 66 loss 0.011040737268859084, accuracy 100.0%\n",
      "step 67 loss 0.01103894432592306, accuracy 100.0%\n",
      "step 68 loss 0.011037191411157587, accuracy 100.0%\n",
      "step 69 loss 0.011035478505513893, accuracy 100.0%\n",
      "step 70 loss 0.011033805590378344, accuracy 100.0%\n",
      "step 71 loss 0.011032172647572079, accuracy 100.0%\n",
      "step 72 loss 0.011030579659350724, accuracy 100.0%\n",
      "step 73 loss 0.011029026608404002, accuracy 100.0%\n",
      "step 74 loss 0.01102751347785549, accuracy 100.0%\n",
      "step 75 loss 0.011026040251262265, accuracy 100.0%\n",
      "step 76 loss 0.01102460691261461, accuracy 100.0%\n",
      "step 77 loss 0.011023213446335783, accuracy 100.0%\n",
      "step 78 loss 0.011021859837281647, accuracy 100.0%\n",
      "step 79 loss 0.01102054607074046, accuracy 100.0%\n",
      "step 80 loss 0.011019272132432562, accuracy 100.0%\n",
      "step 81 loss 0.011018038008510152, accuracy 100.0%\n",
      "step 82 loss 0.011016843685557066, accuracy 100.0%\n",
      "step 83 loss 0.011015689150588431, accuracy 100.0%\n",
      "step 84 loss 0.011014574391050516, accuracy 100.0%\n",
      "step 85 loss 0.011013499394820504, accuracy 100.0%\n",
      "step 86 loss 0.01101246415020621, accuracy 100.0%\n",
      "step 87 loss 0.011011468645945937, accuracy 100.0%\n",
      "step 88 loss 0.01101051287120822, accuracy 100.0%\n",
      "step 89 loss 0.0110095968155917, accuracy 100.0%\n",
      "step 90 loss 0.011008720469124827, accuracy 100.0%\n",
      "step 91 loss 0.011007883822265757, accuracy 100.0%\n",
      "step 92 loss 0.011007086865902203, accuracy 100.0%\n",
      "step 93 loss 0.01100632959135116, accuracy 100.0%\n",
      "step 94 loss 0.011005611990358896, accuracy 100.0%\n",
      "step 95 loss 0.011004934055100666, accuracy 100.0%\n",
      "step 96 loss 0.01100429577818061, accuracy 100.0%\n",
      "step 97 loss 0.011003697152631699, accuracy 100.0%\n",
      "step 98 loss 0.01100313817191549, accuracy 100.0%\n",
      "step 99 loss 0.011002618829922078, accuracy 100.0%\n"
     ]
    }
   ],
   "source": [
    "# optimization\n",
    "for k in range(100):\n",
    "    \n",
    "    # forward\n",
    "    total_loss, acc = loss()\n",
    "    \n",
    "    # backward\n",
    "    model.zero_grad()\n",
    "    total_loss.backward()\n",
    "    \n",
    "    # update (sgd)\n",
    "    learning_rate = 1.0 - 0.9*k/100\n",
    "    for p in model.parameters():\n",
    "        p.data -= learning_rate * p.grad\n",
    "    \n",
    "    if k % 1 == 0:\n",
    "        print(f\"step {k} loss {total_loss.data}, accuracy {acc*100}%\")\n"
   ]
  },
  {
   "cell_type": "code",
   "execution_count": 31,
   "metadata": {
    "ExecuteTime": {
     "end_time": "2023-05-09T13:20:43.103902Z",
     "start_time": "2023-05-09T13:20:40.789984Z"
    }
   },
   "outputs": [
    {
     "data": {
      "text/plain": [
       "(-1.4996585459951288, 1.7503414540048712)"
      ]
     },
     "execution_count": 31,
     "metadata": {},
     "output_type": "execute_result"
    },
    {
     "data": {
      "image/png": "[encoded data removed]",
      "text/plain": [
       "<Figure size 640x480 with 1 Axes>"
      ]
     },
     "metadata": {},
     "output_type": "display_data"
    }
   ],
   "source": [
    "# visualize decision boundary\n",
    "\n",
    "h = 0.25\n",
    "x_min, x_max = X[:, 0].min() - 1, X[:, 0].max() + 1\n",
    "y_min, y_max = X[:, 1].min() - 1, X[:, 1].max() + 1\n",
    "xx, yy = np.meshgrid(np.arange(x_min, x_max, h),\n",
    "                     np.arange(y_min, y_max, h))\n",
    "Xmesh = np.c_[xx.ravel(), yy.ravel()]\n",
    "inputs = [list(map(Value, xrow)) for xrow in Xmesh]\n",
    "scores = list(map(model, inputs))\n",
    "Z = np.array([s.data > 0 for s in scores])\n",
    "Z = Z.reshape(xx.shape)\n",
    "\n",
    "fig = plt.figure()\n",
    "plt.contourf(xx, yy, Z, cmap=plt.cm.Spectral, alpha=0.8)\n",
    "plt.scatter(X[:, 0], X[:, 1], c=y, s=40, cmap=plt.cm.Spectral)\n",
    "plt.xlim(xx.min(), xx.max())\n",
    "plt.ylim(yy.min(), yy.max())\n"
   ]
  },
  {
   "cell_type": "code",
   "execution_count": null,
   "metadata": {},
   "outputs": [],
   "source": []
  }
 ],
 "metadata": {
  "kernelspec": {
   "display_name": "Python 3 (ipykernel)",
   "language": "python",
   "name": "python3"
  },
  "language_info": {
   "codemirror_mode": {
    "name": "ipython",
    "version": 3
   },
   "file_extension": ".py",
   "mimetype": "text/x-python",
   "name": "python",
   "nbconvert_exporter": "python",
   "pygments_lexer": "ipython3",
   "version": "3.11.3"
  },
  "toc": {
   "base_numbering": 1,
   "nav_menu": {},
   "number_sections": true,
   "sideBar": true,
   "skip_h1_title": false,
   "title_cell": "Table of Contents",
   "title_sidebar": "Contents",
   "toc_cell": false,
   "toc_position": {},
   "toc_section_display": true,
   "toc_window_display": true
  }
 },
 "nbformat": 4,
 "nbformat_minor": 2
}
